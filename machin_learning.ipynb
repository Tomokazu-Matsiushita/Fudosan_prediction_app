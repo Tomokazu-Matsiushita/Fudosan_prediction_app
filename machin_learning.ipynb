{
 "cells": [
  {
   "cell_type": "code",
   "execution_count": 5,
   "metadata": {},
   "outputs": [
    {
     "name": "stdout",
     "output_type": "stream",
     "text": [
      "R-squared score: 0.8338151124010073\n"
     ]
    },
    {
     "name": "stderr",
     "output_type": "stream",
     "text": [
      "/Users/tomokazumatsushita/anaconda3/lib/python3.10/site-packages/pandas/core/arraylike.py:402: RuntimeWarning: invalid value encountered in log1p\n",
      "  result = getattr(ufunc, method)(*inputs, **kwargs)\n"
     ]
    },
    {
     "data": {
      "text/plain": [
       "['fudosan_model_file.pkl']"
      ]
     },
     "execution_count": 5,
     "metadata": {},
     "output_type": "execute_result"
    }
   ],
   "source": [
    "import numpy as np\n",
    "import pandas as pd\n",
    "import matplotlib.pyplot as plt\n",
    "import seaborn as sns\n",
    "from sklearn.model_selection import train_test_split\n",
    "from sklearn.linear_model import LinearRegression\n",
    "from sklearn.metrics import mean_squared_error\n",
    "from sklearn.ensemble import RandomForestRegressor\n",
    "from sklearn.preprocessing import StandardScaler\n",
    "from sklearn.model_selection import GridSearchCV\n",
    "from sklearn.ensemble import GradientBoostingRegressor\n",
    "from sklearn.ensemble import RandomForestRegressor\n",
    "from sklearn.tree import DecisionTreeClassifier\n",
    "df = pd.read_csv(\"物件情報_2.csv\", index_col=0)\n",
    "import joblib\n",
    "\n",
    "df['Price'] = np.log1p(df['Price'])\n",
    "df['Space'] = np.log1p(df['Space'])\n",
    "df['Belanda'] = np.log1p(df['Belanda'])\n",
    "df['Walk'] = np.log1p(df['Walk'])\n",
    "df['DaysAgo'] = np.log1p(df['DaysAgo'])\n",
    "\n",
    "df = pd.get_dummies(df, columns=['Type'], prefix='Type')\n",
    "\n",
    "df.dropna(subset=[\"DaysAgo\"], inplace=True)\n",
    "df['Belanda'].fillna(0, inplace=True)\n",
    "df.dropna(inplace=True)\n",
    "\n",
    "# Define features (X) and target (y)\n",
    "X = df[['Space', 'Latitude', 'Longitude', 'Walk', 'DaysAgo']]\n",
    "#X = df[['Space', 'Latitude', 'Longitude', 'Walk']]\n",
    "#X = df[['Space', 'Walk', 'DaysAgo']]\n",
    "#X = df[['Space']]\n",
    "y = df['Price']\n",
    "\n",
    "# Split the data into training and test sets\n",
    "X_train, X_test, y_train, y_test = train_test_split(X, y, test_size=0.2, random_state=42)\n",
    "\n",
    "# Calculate the IQR for y_train\n",
    "Q1 = np.percentile(y_train, 25)\n",
    "Q3 = np.percentile(y_train, 75)\n",
    "IQR = Q3 - Q1\n",
    "\n",
    "# Define the upper and lower bounds to identify outliers\n",
    "lower_bound = Q1 - 1.5 * IQR\n",
    "upper_bound = Q3 + 1.5 * IQR\n",
    "\n",
    "# Identify and remove outliers in the training set\n",
    "outliers = (y_train < lower_bound) | (y_train > upper_bound)\n",
    "X_train_cleaned = X_train[~outliers]\n",
    "y_train_cleaned = y_train[~outliers]\n",
    "\n",
    "# Initialize and train your machine learning model (Linear Regression)\n",
    "model = LinearRegression()\n",
    "model.fit(X_train_cleaned, y_train_cleaned)\n",
    "\n",
    "# Make predictions on the test set\n",
    "y_pred = model.predict(X_test)\n",
    "\n",
    "# Evaluate the model on the test set\n",
    "score = model.score(X_test, y_test)\n",
    "print(f'R-squared score: {score}')\n",
    "\n",
    "# df['Price'] = np.expm1(df['Price'])\n",
    "# df['Space'] = np.expm1(df['Space'])\n",
    "# df['Belanda'] = np.expm1(df['Belanda'])\n",
    "# df['Walk'] = np.expm1(df['Walk'])\n",
    "# df['DaysAgo'] = np.expm1(df['DaysAgo'])\n",
    "joblib.dump(model, \"fudosan_model_file.pkl\")"
   ]
  }
 ],
 "metadata": {
  "kernelspec": {
   "display_name": "base",
   "language": "python",
   "name": "python3"
  },
  "language_info": {
   "codemirror_mode": {
    "name": "ipython",
    "version": 3
   },
   "file_extension": ".py",
   "mimetype": "text/x-python",
   "name": "python",
   "nbconvert_exporter": "python",
   "pygments_lexer": "ipython3",
   "version": "3.10.9"
  },
  "orig_nbformat": 4
 },
 "nbformat": 4,
 "nbformat_minor": 2
}
